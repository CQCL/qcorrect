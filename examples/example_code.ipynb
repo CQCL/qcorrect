{
 "cells": [
  {
   "cell_type": "code",
   "execution_count": 1,
   "id": "4cddd39c",
   "metadata": {},
   "outputs": [],
   "source": [
    "import qcorrect as qct\n",
    "\n",
    "from guppylang import guppy\n",
    "from guppylang.std import quantum as phys\n",
    "from guppylang.std.builtins import array, comptime, nat, owned\n",
    "\n",
    "from typing import Generic"
   ]
  },
  {
   "cell_type": "code",
   "execution_count": 2,
   "id": "f05d063c",
   "metadata": {},
   "outputs": [],
   "source": [
    "# Define a new codeblock type with parameter `N`\n",
    "N = guppy.nat_var(\"N\")\n",
    "\n",
    "@qct.type(copyable=False, droppable=False)\n",
    "class CodeBlock(Generic[N]):\n",
    "    data_qs: array[phys.qubit, N]\n",
    "\n",
    "# Define logical operations\n",
    "@qct.operation\n",
    "def zero(n: nat @ comptime) -> \"CodeBlock[n]\":\n",
    "    return CodeBlock(array(phys.qubit() for _ in range(n)))\n",
    "\n",
    "@qct.operation\n",
    "def measure(q: CodeBlock[N] @ owned) -> array[bool, N]:\n",
    "    return phys.measure_array(q.data_qs)"
   ]
  },
  {
   "cell_type": "code",
   "execution_count": 3,
   "id": "8791540c",
   "metadata": {},
   "outputs": [],
   "source": [
    "# Use new code to create a hugr module\n",
    "@guppy\n",
    "def main() -> None:\n",
    "    q = zero(6)\n",
    "    measure(q)\n",
    "\n",
    "hugr = main.compile()\n"
   ]
  },
  {
   "cell_type": "code",
   "execution_count": null,
   "id": "6c1a0c1a",
   "metadata": {},
   "outputs": [],
   "source": []
  },
  {
   "cell_type": "code",
   "execution_count": null,
   "id": "e091d9c0",
   "metadata": {},
   "outputs": [],
   "source": []
  }
 ],
 "metadata": {
  "kernelspec": {
   "display_name": ".venv",
   "language": "python",
   "name": "python3"
  },
  "language_info": {
   "codemirror_mode": {
    "name": "ipython",
    "version": 3
   },
   "file_extension": ".py",
   "mimetype": "text/x-python",
   "name": "python",
   "nbconvert_exporter": "python",
   "pygments_lexer": "ipython3",
   "version": "3.13.4"
  }
 },
 "nbformat": 4,
 "nbformat_minor": 5
}
